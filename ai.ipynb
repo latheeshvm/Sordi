{
 "cells": [
  {
   "cell_type": "code",
   "execution_count": 67,
   "metadata": {},
   "outputs": [],
   "source": [
    "# imports\n",
    "import os\n",
    "import torch\n",
    "import pandas as pd \n",
    "from skimage import io, transform\n",
    "import numpy as np \n",
    "import matplotlib.pyplot as plt\n",
    "import torchvision\n",
    "from torch.utils.data import Dataset, DataLoader\n",
    "from torchvision import transforms, utils\n",
    "from torchvision.io import read_image\n",
    "import PIL\n",
    "from PIL import Image\n",
    "from torchvision.io import read_image\n",
    "from torchvision.utils import draw_bounding_boxes\n",
    "from torchvision.ops import box_convert"
   ]
  },
  {
   "cell_type": "code",
   "execution_count": 68,
   "metadata": {},
   "outputs": [
    {
     "name": "stdout",
     "output_type": "stream",
     "text": [
      "cuda:0\n"
     ]
    }
   ],
   "source": [
    "# check for device\n",
    "device = torch.device(\"cuda:0\" if torch.cuda.is_available() else \"cpu\")\n",
    "print(device)"
   ]
  },
  {
   "cell_type": "code",
   "execution_count": 69,
   "metadata": {},
   "outputs": [
    {
     "data": {
      "text/plain": [
       "'g:\\\\Work\\\\BMW\\\\Workbench\\\\data'"
      ]
     },
     "execution_count": 69,
     "metadata": {},
     "output_type": "execute_result"
    }
   ],
   "source": [
    "root_dir = os.path.join(os.getcwd(), \"data\" )\n",
    "root_dir"
   ]
  },
  {
   "cell_type": "code",
   "execution_count": 73,
   "metadata": {},
   "outputs": [
    {
     "data": {
      "text/plain": [
       "(tensor([[[ 75,  75,  68,  ...,  27,  32,  42],\n",
       "          [ 60,  68,  66,  ...,  28,  31,  38],\n",
       "          [ 55,  59,  64,  ...,  26,  35,  42],\n",
       "          ...,\n",
       "          [117, 118, 121,  ...,  39,  38,  38],\n",
       "          [120, 123, 126,  ...,  62,  60,  55],\n",
       "          [121, 124, 128,  ...,  73,  71,  77]],\n",
       " \n",
       "         [[ 75,  75,  68,  ...,  27,  32,  42],\n",
       "          [ 60,  68,  66,  ...,  28,  31,  40],\n",
       "          [ 55,  59,  64,  ...,  26,  35,  42],\n",
       "          ...,\n",
       "          [117, 118, 121,  ...,  39,  38,  38],\n",
       "          [120, 123, 126,  ...,  62,  60,  55],\n",
       "          [121, 124, 128,  ...,  73,  71,  77]],\n",
       " \n",
       "         [[ 75,  75,  68,  ...,  27,  32,  42],\n",
       "          [ 60,  68,  66,  ...,  28,  31,  38],\n",
       "          [ 55,  59,  64,  ...,  26,  35,  42],\n",
       "          ...,\n",
       "          [117, 118, 121,  ...,  39,  38,  38],\n",
       "          [120, 123, 126,  ...,  62,  60,  55],\n",
       "          [119, 124, 128,  ...,  73,  71,  77]]], dtype=torch.uint8),\n",
       " 'bicycle',\n",
       " 2000,\n",
       " 100,\n",
       " 18.05,\n",
       " 13.511111111111111,\n",
       " 36.0,\n",
       " 59.37777777777778)"
      ]
     },
     "execution_count": 73,
     "metadata": {},
     "output_type": "execute_result"
    }
   ],
   "source": [
    "# Image Detection Class\n",
    "class ImageDetection(Dataset):\n",
    "    def __init__(self, root_dir, transform=None):\n",
    "        self.root_dir = root_dir\n",
    "        self.transform = transform\n",
    "\n",
    "        self.folders = os.listdir(root_dir)\n",
    "        self.images = []\n",
    "        self.json_data = []\n",
    "        \n",
    "\n",
    "        for folder in self.folders:\n",
    "            folder_path = os.path.join(root_dir, folder)\n",
    "            image_folder = os.path.join(folder_path, \"images\")\n",
    "            json_folder = os.path.join(folder_path, \"labels\", \"json\")\n",
    "\n",
    "            for file in os.listdir(image_folder):\n",
    "                file_path = os.path.join(image_folder, file)\n",
    "                self.images.append((file_path, folder))\n",
    "            \n",
    "            for file in os.listdir(json_folder):\n",
    "                file_path = os.path.join(json_folder, file)\n",
    "                self.json_data.append((file_path, folder))\n",
    "\n",
    "    def images(self):\n",
    "        return self.json_data\n",
    "\n",
    "    def load_image(self, idx):\n",
    "        img_file = self.images[idx][0]\n",
    "        image = read_image(img_file)\n",
    "        return Image.open(img_file).convert(\"RGB\")\n",
    "\n",
    "    def __len__(self):\n",
    "        return len(self.images)\n",
    "\n",
    "    def __getitem__(self, idx):\n",
    "        img_file = self.images[idx][0]\n",
    "        json_file = self.json_data[idx][0]\n",
    "        image = read_image(img_file)\n",
    "\n",
    "        # read the json file\n",
    "        df1 = pd.read_json(json_file)\n",
    "       \n",
    "        pen_x = 1\n",
    "        pen_y = 1\n",
    "\n",
    "        image_shape = image.shape\n",
    "        if self.transform:\n",
    "            image = self.transform(image)\n",
    "            transformed_image_shape = image.shape\n",
    "      \n",
    "            pen_x  =  transformed_image_shape[1] / image_shape[1] \n",
    "            pen_y =  transformed_image_shape[2]  /image_shape[2] \n",
    "    \n",
    "        for i in range(len(df1)):\n",
    "            return image, df1[\"ObjectClassName\"][i],df1[\"ObjectClassId\"][i],  df1[\"Id\"][i]  , df1[\"Left\"][i] * pen_y, df1[\"Top\"][i] * pen_x, df1[\"Right\"][i] * pen_y, df1[\"Bottom\"][i] *pen_x\n",
    "          \n",
    "transform = transforms.Compose([\n",
    "    transforms.Resize(size=(64, 64)),  # Resize the image to 256x256  # Crop the image to 224x224\n",
    "])\n",
    "data_set = ImageDetection(root_dir, transform=transform)\n",
    "data_set.__getitem__(2)"
   ]
  },
  {
   "cell_type": "code",
   "execution_count": 74,
   "metadata": {},
   "outputs": [
    {
     "name": "stdout",
     "output_type": "stream",
     "text": [
      "[23.1, 11.022222222222222, 40.85, 45.68888888888889]\n"
     ]
    },
    {
     "data": {
      "image/png": "[encoded data removed]",
      "text/plain": [
       "<Figure size 1600x800 with 1 Axes>"
      ]
     },
     "metadata": {},
     "output_type": "display_data"
    }
   ],
   "source": [
    "def display_random_images(data_set, n = 10, display_shape = True, seed = None):\n",
    "\n",
    "    if n > 10:\n",
    "        n = 10\n",
    "        display_shape = False\n",
    "    \n",
    "    if seed:\n",
    "        np.random.seed(seed)\n",
    "    \n",
    "    random_sample_idx = np.random.randint(0, len(data_set), n)\n",
    "\n",
    "    plt.figure(figsize=(16,8))\n",
    "\n",
    "    for i,idx in enumerate(random_sample_idx):\n",
    "        b_image, class_name, class_id, image_id , left, top, right, bottom = data_set.__getitem__(idx)\n",
    "\n",
    "        targ_image_adjust = b_image.permute(1,2,0)\n",
    "\n",
    "        plt.subplot(1, n, i+1)\n",
    "        plt.imshow(targ_image_adjust)\n",
    "        plt.axis('off')\n",
    "\n",
    "        title = f\"Label: {class_name}\"\n",
    "        title = title + f\"\\nshape: {b_image.shape}\"\n",
    "\n",
    "        # matplotlib create bouding box from coordinates\n",
    "        targ_bbox = [left, top, right, bottom]\n",
    "        print(targ_bbox)\n",
    "        rect = plt.Rectangle((left, top), right - left, bottom - top, fill=False, color='red')\n",
    "        plt.gca().add_patch(rect)\n",
    "        plt.title(title)\n",
    "       \n",
    "\n",
    "display_random_images(data_set, 1, seed = 0)\n"
   ]
  },
  {
   "cell_type": "code",
   "execution_count": 75,
   "metadata": {},
   "outputs": [],
   "source": [
    "train_data_set, test_data_set = torch.utils.data.random_split(data_set, [int(len(data_set)*0.75), int(len(data_set)*0.25)+1])\n",
    "BATCH_SIZE = 34\n",
    "NUM_WORKERS = os.cpu_count()\n",
    "train_data_loader_custom = DataLoader(dataset=train_data_set, batch_size=BATCH_SIZE, shuffle=True, num_workers=NUM_WORKERS)\n",
    "test_data_loader_custom = DataLoader(dataset=test_data_set, batch_size=BATCH_SIZE, shuffle=False, num_workers=NUM_WORKERS )"
   ]
  }
 ],
 "metadata": {
  "kernelspec": {
   "display_name": "Python 3",
   "language": "python",
   "name": "python3"
  },
  "language_info": {
   "codemirror_mode": {
    "name": "ipython",
    "version": 3
   },
   "file_extension": ".py",
   "mimetype": "text/x-python",
   "name": "python",
   "nbconvert_exporter": "python",
   "pygments_lexer": "ipython3",
   "version": "3.10.6"
  },
  "orig_nbformat": 4,
  "vscode": {
   "interpreter": {
    "hash": "369f2c481f4da34e4445cda3fffd2e751bd1c4d706f27375911949ba6bb62e1c"
   }
  }
 },
 "nbformat": 4,
 "nbformat_minor": 2
}
